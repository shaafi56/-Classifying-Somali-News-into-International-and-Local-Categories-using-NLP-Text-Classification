{
  "cells": [
    {
      "cell_type": "markdown",
      "metadata": {
        "id": "view-in-github",
        "colab_type": "text"
      },
      "source": [
        "<a href=\"https://colab.research.google.com/github/shaafi56/-Classifying-Somali-News-into-International-and-Local-Categories-using-NLP-Text-Classification/blob/main/update_three.ipynb\" target=\"_parent\"><img src=\"https://colab.research.google.com/assets/colab-badge.svg\" alt=\"Open In Colab\"/></a>"
      ]
    },
    {
      "cell_type": "code",
      "source": [
        "import pandas as pd\n",
        "\n",
        "import matplotlib.pyplot as plt\n",
        "!pip install WordCloud\n",
        "from wordcloud import WordCloud\n",
        "import nltk\n",
        "from nltk.corpus import stopwords\n",
        "from nltk.tokenize import word_tokenize\n",
        "from nltk.stem import WordNetLemmatizer\n",
        "from sklearn.feature_extraction.text import CountVectorizer, TfidfVectorizer\n",
        "from sklearn.model_selection import train_test_split, cross_val_score\n",
        "from sklearn.linear_model import LogisticRegression\n",
        "from sklearn.ensemble import RandomForestClassifier\n",
        "from sklearn.neural_network import MLPClassifier\n",
        "from sklearn.metrics import accuracy_score"
      ],
      "metadata": {
        "id": "qUqFXLaOM5un"
      },
      "execution_count": null,
      "outputs": []
    },
    {
      "cell_type": "code",
      "source": [
        "# Download NLTK resources if not already downloaded\n",
        "nltk.download('punkt')\n",
        "nltk.download('stopwords')\n",
        "nltk.download('wordnet')"
      ],
      "metadata": {
        "id": "oC3an9kDNA6y"
      },
      "execution_count": null,
      "outputs": []
    },
    {
      "cell_type": "code",
      "source": [
        "from docx import Document\n",
        "\n",
        "# Assuming the uploaded file is named 'example.docx'\n",
        "doc = Document('datasets.docx')\n",
        "\n",
        "# Extract text from each paragraph in the document\n",
        "text = []\n",
        "for paragraph in doc.paragraphs:\n",
        "    text.append(paragraph.text)\n",
        "\n",
        "# Print the extracted text\n",
        "for line in text:\n",
        "    print(line)\n"
      ],
      "metadata": {
        "id": "X8opcqlrS0Ye"
      },
      "execution_count": null,
      "outputs": []
    },
    {
      "cell_type": "code",
      "source": [
        "# Word Cloud\n",
        "wordcloud = WordCloud(width=800, height=400, background_color='white').generate(' '.join(text))\n",
        "plt.figure(figsize=(10, 5))\n",
        "plt.imshow(wordcloud, interpolation='bilinear')\n",
        "plt.title('Word Cloud for News Text')\n",
        "plt.axis('off')"
      ],
      "metadata": {
        "id": "DriEFBxcTaHw"
      },
      "execution_count": null,
      "outputs": []
    },
    {
      "cell_type": "code",
      "source": [
        "# Create a DataFrame from the list of text\n",
        "text_df = pd.DataFrame({'Text': text})\n",
        "# Tokenize the text in the DataFrame\n",
        "text_df['Tokenized_Text'] = text_df['Text'].apply(lambda x: word_tokenize(x))\n"
      ],
      "metadata": {
        "id": "i71116iWV_5f"
      },
      "execution_count": 88,
      "outputs": []
    },
    {
      "cell_type": "code",
      "source": [
        "# Stopword Removal\n",
        "#stop_words = ['waa', 'waana', 'waan', 'ah', 'oo', 'ee', 'waxey', 'ugu', 'waxa','eey', 'iyo', 'aad', 'baan', 'u', 'leh', 'beey', 'ahna', 'tiq', 'sidoo', 'kalena', 'laakiin','ay','is','ayaa', 'isku', 'ka',  'ku', 'lagu', 'ayay',  'ayuu', 'inuu', 'inaa', 'si', 'laga', 'in', 'haya', 'haaya', 'intii', 'uu', 'ii', 'la', 'looga', 'Mar', 'kaliya', 'waxaa', 'loo']\n",
        "stop_words = ['waa', 'waana', 'waan', 'ah', 'oo', 'ee', 'waxey', 'ugu', 'waxa',\n",
        "             'eey', 'iyo', 'aad', 'baan', 'u', 'leh', 'yar', 'yaraaday', 'yarayd', 'yeesheen', 'yeeshee', 'beey', 'ahna', 'tiq', 'oo', 'yimid', 'yiri' 'Ku','ee' 'sidoo', 'kalena', 'laakiin',\n",
        "             'yeeshay','yesheen', 'yaala', 'ay', 'yaabaa', 'yaabo', 'is', 'yare', 'yaab', 'yeesho', 'yareeyo','yeelatay','ayaa','isku', 'ka', 'ku', 'yiri','yimaadaan','yimaaday','yimaaday','yihiin', 'lagu', 'ayay',  'ayuu',\n",
        "              'inuu', 'inaa', 'si', 'laga', 'in', 'yaryar','yaalla', 'yaal','yaalay', 'haya', 'haaya', 'intii', 'uu', 'ii', 'la', 'looga','mar','kaliya','loo','yahay','sida','soo']\n",
        "text_df['Filtered_Text'] = text_df['Tokenized_Text'].apply(lambda x: [word for word in x if word.lower() not in stop_words])\n",
        "stopWords = list(stop_words)"
      ],
      "metadata": {
        "id": "c_PoektYM6Xi"
      },
      "execution_count": 90,
      "outputs": []
    },
    {
      "cell_type": "code",
      "source": [
        "import spacy\n",
        "from spacy.lang.en.stop_words import STOP_WORDS\n",
        "nlp = spacy.load('en_core_web_sm')\n",
        "docs = nlp(text_df['Text'].str.cat(sep=' '))"
      ],
      "metadata": {
        "id": "MZe_NSFjZr3L"
      },
      "execution_count": 89,
      "outputs": []
    },
    {
      "cell_type": "code",
      "source": [
        "from string import punctuation\n",
        "punctuation = punctuation + '\\n'\n",
        "punctuation"
      ],
      "metadata": {
        "id": "KeXQvsX2fd9L"
      },
      "execution_count": null,
      "outputs": []
    },
    {
      "cell_type": "code",
      "source": [
        "#words frequency are how many words are repetition\n",
        "space = '\\n '\n",
        "word_frequencies = {}\n",
        "for word in docs:\n",
        "  if word.text.lower() not in stop_words:\n",
        "    if word.text.lower() not in punctuation:\n",
        "      if word.text not in word_frequencies.keys():\n",
        "        if word.text not in space:\n",
        "          word_frequencies[word.text] = 1\n",
        "\n",
        "      else:\n",
        "        word_frequencies[word.text] += 1\n",
        "#display as a list with word frequencies\n",
        "for key, value in word_frequencies.items():\n",
        "  print(key, value)"
      ],
      "metadata": {
        "id": "h7rrT-OBdsbz"
      },
      "execution_count": null,
      "outputs": []
    },
    {
      "cell_type": "code",
      "source": [
        "#which word that is maximum repetition\n",
        "max_frequencies = max(word_frequencies.values())\n",
        "print(max_frequencies)"
      ],
      "metadata": {
        "colab": {
          "base_uri": "https://localhost:8080/"
        },
        "id": "zVdnvlTSiady",
        "outputId": "fdbd098f-5845-40e0-c854-b0098036af5e"
      },
      "execution_count": 101,
      "outputs": [
        {
          "output_type": "stream",
          "name": "stdout",
          "text": [
            "14\n"
          ]
        }
      ]
    },
    {
      "cell_type": "code",
      "source": [
        "for word in word_frequencies.keys():\n",
        "  word_frequencies[word] = (word_frequencies[word]/max_frequencies)\n",
        "  print(word, word_frequencies[word])"
      ],
      "metadata": {
        "id": "iMPJmle-k8Iz"
      },
      "execution_count": null,
      "outputs": []
    },
    {
      "cell_type": "code",
      "source": [
        "sent_token = [sent.text for sent in docs.sents]\n",
        "sent_token"
      ],
      "metadata": {
        "id": "7ogcaHcQ08bT"
      },
      "execution_count": null,
      "outputs": []
    },
    {
      "cell_type": "code",
      "source": [
        "sent_score = {}\n",
        "for sent in sent_token:\n",
        "  for word in sent.split():\n",
        "    if word.lower() in word_frequencies.keys():\n",
        "      if sent not in sent_score.keys():\n",
        "        sent_score[sent] = word_frequencies[word]\n",
        "      else:\n",
        "        sent_score[sent] += word_frequencies[word]\n",
        "sent_score"
      ],
      "metadata": {
        "id": "RT16FaGrBb_6",
        "outputId": "b3ebe2d1-30bf-4c57-9374-d64641f53ed2",
        "colab": {
          "base_uri": "https://localhost:8080/"
        }
      },
      "execution_count": 131,
      "outputs": [
        {
          "output_type": "execute_result",
          "data": {
            "text/plain": [
              "{'Nin u dhashay dalka Taliyaaniga oo la nool xanuunka': 18,\n",
              " 'HIV ayaa lagu xukumay xabsi dhan afar iyo labaatan sano kadib markii lagu helay dembi ah in si ula kac ah uu xanunkaasi uu u qaadsiiyay sodon haween ah oo u dhashay dalkaasi\\n Valentino Talluto ayaa la xiray bishii November 2015 Sodon iyo saddex jirkan lagu magacaabo Valentino Tallut oo ahaa xisaabiye ayaa lagu eedeeyay in haweenka uu la hasaawo uu qaadsiin jiray xanuunka kadib markii uu ogaaday in uu qabo xanuunka AIDSka\\n Baarayaasha kiiskani ayaa sheegay in ninkani uu sidoo kale xanuunka qaadsiiyay caruurta ay caloosha ku sideen qaar kamid ah hawwenkaasi waxaan qareenka difaacayay Valentino Talluto uu sheegay in falkani uusan aheyn mid ulakac ah\\n Suaal xisaab ah oo aan la xalin karin oo la weeydiiyay ardayda Shiinaha\\n Dadka isticmaala baraha bulshada dalka Shiinaha ayaa dhaleeceeyay suaal ku jirtay imtixaam arday laga qaadayay taas oo aysanba suurtogal ahayn in la xaliyo\\n Suaasha oo la weeydiiyay ardayda dhigata fasalka 5aad ayaa waxa ay u qorantahay Haddii markab uu wado 26 ido ah iyo 10 riyo ah meeqa sano ayuu jiraa': 189,\n",
              " 'naaquudaha\\n Sawiro laga qaaday warqadda lagu soo daabacay suaasha ayaa lagu baahiyay baraha bulshada waxaana ka dhashay dareen badan oo ay dadka qabeen kuwaas oo xitaa suaal galiyay maangalnimada suaasha nooca ah\\n Mid ka mid ah dadka baraha bulshada isticmaala ayaa isweeydiiyay in macalinka suaasha soo qorey uu isaga yaqaano jawaabta iyo inkale\\n Balse saraakiisha waxbarashada Shiinaha ayaa sheegay in suaasha ay ahayd mid si kama ah kusoo gashay imtixaamka\\n Ardayda midkood ayaa malaawaalay jawaabta wuxuuna yiri': 116,\n",
              " 'Naaquudaha ugu yaraan 18 jir waa ka weynyahay isaga maanka ku haya in qof dadaas ka yar aanan loo ogolayn in uu gaadiid kaxeeyo\\n Talyaaniga iyo Liibiya oo iska kaashanaya xakameynta tahriibka\\n Raiisul wasaaraha': 29,\n",
              " 'Talyaaniga Paolo Gentiloni ayaa sheegay in uu heshiis lagu joojinayo dadka kasoo tahriiba Liibiya la galay dhiggiisa dalkaasi\\n Kumannaan qof ayaa ka gudba badda u dhexeysa Liibiya iyo Talyaaniga Mr Gentiloni ayaa sheegay in uu raiisul wasaaraha Liibiya Fayez Serraj kulan kula qaatay caasimadda Rome ayna labada dhinac ku heshiiyeen in ay iska kaashadaan la dagaallanka kooxaha dadka tahriibiya\\n Talyaaniga ayaa dowladda caalamku aqoonsan yahay ee Liibiya ugu deeqay lacag tababar iyo qalab si ay u joojiso muhaajiriinta dalkaasi uga soo gudba Yurub\\n Raiisul wasaare Gentiloni ayaa ugu baaqay hogaamiyayaasha Midowga Yurub ee maanta ku shiraya Malta in ay qaadaan tallaabo taa la mid ah si loo xakameeyo dadka badda Mediterraneanka isku biimeeya si ay Yurub u gaaraan\\n Shan arrimood oo Madaxweyne Farmaajo khudbadiisii kaga hadlay\\n Madaxweynaha Soomaaliya Maxamed Cabdullaahi Farmaajo oo maanta khudbad ka horjeediyay Golaha Shacabka ee baarlamaanka Soomaaliya ayaa ka hadlay dhowr arrimood oo ku saabsan xaaladda siyaasadeed ee dalku uu marayo': 173,\n",
              " 'qayb ka mid ah marxaladihii la soo maray iyo halka hadda looga dhaqaaqayo meesha la taaganyahay si doorasho': 16,\n",
              " 'loo aado\\n Doorka Golaha Shacabka ee jihada dalku aadayo Madaxweynaha Maxamed Cabdullaahi Farmaajo ayaa sheegay in golaha baarlamaanku uu udub dhaxaad u yahay jiritaanka qaranimada dalka iyo sharciyada lagu dhaqayo\\n Sidoo kale wuxuu sheegay in ay qasab tahay in baarlamaanku uu door ku yeesha': 83,\n",
              " 'masiirka iyo jihada uu dalku aadayo isagoo intaa raaciyay in baarlamanaku yahay marjicii loola laabanyay xalinta arrimaha murugsan\\n Dhamaan arrimaha masiiriga ah ee la xiriira mustaqbalka iyo jihada dalkeenu aadayo waxaa qasab ah in baarlamaanku door ku yeesho isla markaasna uu noqdo marjaca loola laabanayo xalinta arrimaha murugsan ayuu yiri madaxweyne Farmaajo\\n Madaxweynaha ayaa tilmaamay in mudadii uu xilka hayay ay dowladdiisu ku dadaashay in baarlamaanku dalka ka qaataan kaalinta ay ku leeyihiin\\n Waxaan xaqiijiyay in heshiisyada masiiriga ah ee laanta fulintu ay gaarto aan u soo celino baalamaanka si ay uga dooddaan haddii loo baahdana ay u ansixiyaan Muddo kordhintii iyo wixii ka dhashay Golaha Shacaka ee baarlamaanka dolwadda federaalka Soomaaliya ayaa 12 bishii Abriil muddo kordhin u sameyay hayaddaha dowladdawaxaana tallaabadaas diidmo kala horyimid mucaaradkamaamulgoballeedyada iyo beesha caalamka iyadoo ay dhamaantood soo jeedinayaan in arrintasa laga laabto isla markaana lagu laabto wadahadalkii': 170,\n",
              " 'oo lagu saleynayo heshiiskii 17kii September\\n Madaxweyne Maxamed Cabdullaahi Farmaajo ayaa khudbadiisa maanta ku sheegay in xeerkii Golaha Shacabku ansixiyeen ee muddada loogu kordhinayay hayaddaha dowladda uu ahaa fursad dalka looga badbaadinayay dib u dhac iyo hubanti laaan dalka la soo darista\\n Wuxuu sheegay in sharcigaas ay ka hor yimaadaan qaar ka mid ah dowladda goballeedyada isla markaana magaalada Muqdisho ee caasimadda Soomaaliya uu ka abuuray cakirnaan iyo qalalaase\\n Magaalada Muqdisho waxaa laga abuuray qalalaasexasarado qorsheysan waxaa la barakiciyay shacab waxaana khatar la galiyay naftooda iyo hantidooda ayuu yiri madaxweynaha Soomaaliya\\n Lama oggalaan karo mar labaad Maxamaed Cabdullaahi Farmaajo ayaa sheegay in magaalada Muqdisho maadama ay tahay caasimadda umadda Soomaaliyeed aan la oggolaan doonin inay dib ugu laabato dhibaaooyinkii ay soo martay soddankii sano ee dalka Soomaaliya uu burburku ka jiray\\n ': 201,\n",
              " 'Wuxuu sheegay in dowladda federaalka Soomaaliya ay dooneyso in caasimaddu noqoto meel umadda u dhaxeeysa lana tartanta caasimadaha aduunka sidaas darteedna ay dowladdiisu doortay in laga shaqeeyo xasiloonida dalka si khilaafka Soomaalida ka dhex jira aan shisheeye uga faaiideysan\\n Ku wareejinta Raiisal wasarae Rooble doorashada iyo amnigeeda Madaxweyne Maxamed Cabdullaahi Farmaajo ayaa khudbadiisa ku sheegay in raiisal Rooble uu hoggaamin doono arrimaha doorashada iyo amnigeedaWaxaan halkaan ka cadeynayaa in Raiisul wasaare Rooble uu hoggaamin doono diyaarinta doorashada iyo amniga sidoo kale fulinta qorshaha sida waafaqsan dastuurka waxaa iska leh raiisal wasaarahaMadaxweynaha ayaa xukuumadda faray inay howshaas baaxadda leh u hoggaansamaan\\n Baaqa siyaasiinta Madaxweyne Farmaajo ayaa ugu baaqay siyaasiinta': 161,\n",
              " 'a kala aragtida yihiin in ay ka shaqeeyaan danta guud ayna ka waantoobaan kicinta bulshada kana fogaadaan wax walba oo khatar galinaya amniga dalka\\n Madaxweynaha ayaa sidoo kale ku baaqay in siyaasiintu ay ku soo laabtaan dhabaha wadahadalka iyo is qancinta taas oo': 67,\n",
              " 'lagu gaari karo wax heshiis lagu yahay\\n Mudanayaal iyo Marwooyin waxaan rabaa inaan ugu baaqo siyaasiinta naga aragtida duwan in ay ka shaqeeyaan danta guud kana waantoobaan kicinta dadweynaha kana fogaadaan wax amniga khatar galin kara ayuu yiri madaxweynaha Maxamed Cabdullaahi Farmaajo\\n Boqolaal ku dhimatay xeebaha Liibiya\\n ': 55,\n",
              " 'In ka badan 239 muhaajiriin ah ayaa la rumeysan yahay in ay ku dhinteen laba doonyood oo ku degay meel ka baxsan xeebaha Liibiya sida ay sheegeen saraakiil muhaajiriinta ku howlan\\n In ka badan 4200 oo qof ayaa ku dhintay badda Mediterranean sanadkan oo keliya Hayadda Qaramada Midoobay u qaabilsan qaxootiga ee UNHCR ayaa waxaa warkan u sheegay laba qof oo ka badbaaday doonyahaasi isla markaana gaaray jasiiradda Talyaaniga ku taalla ee Lampedusa\\n Ilaa iyo hadda ma jiraan meydad laga helay doonyahaasi\\n Sida uu sheegay ururka caalamiga ah ee socdaalka in ka badan 4200 oo qof ayaa ku dhintay badda Mediterranean sanadkan oo keliya\\n': 132}"
            ]
          },
          "metadata": {},
          "execution_count": 131
        }
      ]
    },
    {
      "cell_type": "code",
      "source": [
        "import pandas as pd\n",
        "df = pd.DataFrame(list(sent_score.items()), columns=['Sentence', 'Score'])\n",
        "df"
      ],
      "metadata": {
        "id": "vfS5LtQCDquT"
      },
      "execution_count": null,
      "outputs": []
    },
    {
      "cell_type": "code",
      "source": [
        "from heapq import nlargest\n",
        "num_sentences = 2\n",
        "#as you split the sentences\n",
        "best_sentences = sorted(sent_score.items(), key=lambda x: x[1], reverse=True)[:num_sentences]\n",
        "best_sentences\n",
        "# as you jion in one parigraph\n",
        "# nlargest(num_sentences, sent_score, key=sent_score.get)\n"
      ],
      "metadata": {
        "id": "ZEYsh4PYJ0_c",
        "outputId": "847a59c9-06b9-412b-fff0-0aa0d46ff50b",
        "colab": {
          "base_uri": "https://localhost:8080/"
        }
      },
      "execution_count": 143,
      "outputs": [
        {
          "output_type": "execute_result",
          "data": {
            "text/plain": [
              "[('oo lagu saleynayo heshiiskii 17kii September\\n Madaxweyne Maxamed Cabdullaahi Farmaajo ayaa khudbadiisa maanta ku sheegay in xeerkii Golaha Shacabku ansixiyeen ee muddada loogu kordhinayay hayaddaha dowladda uu ahaa fursad dalka looga badbaadinayay dib u dhac iyo hubanti laaan dalka la soo darista\\n Wuxuu sheegay in sharcigaas ay ka hor yimaadaan qaar ka mid ah dowladda goballeedyada isla markaana magaalada Muqdisho ee caasimadda Soomaaliya uu ka abuuray cakirnaan iyo qalalaase\\n Magaalada Muqdisho waxaa laga abuuray qalalaasexasarado qorsheysan waxaa la barakiciyay shacab waxaana khatar la galiyay naftooda iyo hantidooda ayuu yiri madaxweynaha Soomaaliya\\n Lama oggalaan karo mar labaad Maxamaed Cabdullaahi Farmaajo ayaa sheegay in magaalada Muqdisho maadama ay tahay caasimadda umadda Soomaaliyeed aan la oggolaan doonin inay dib ugu laabato dhibaaooyinkii ay soo martay soddankii sano ee dalka Soomaaliya uu burburku ka jiray\\n ',\n",
              "  201),\n",
              " ('HIV ayaa lagu xukumay xabsi dhan afar iyo labaatan sano kadib markii lagu helay dembi ah in si ula kac ah uu xanunkaasi uu u qaadsiiyay sodon haween ah oo u dhashay dalkaasi\\n Valentino Talluto ayaa la xiray bishii November 2015 Sodon iyo saddex jirkan lagu magacaabo Valentino Tallut oo ahaa xisaabiye ayaa lagu eedeeyay in haweenka uu la hasaawo uu qaadsiin jiray xanuunka kadib markii uu ogaaday in uu qabo xanuunka AIDSka\\n Baarayaasha kiiskani ayaa sheegay in ninkani uu sidoo kale xanuunka qaadsiiyay caruurta ay caloosha ku sideen qaar kamid ah hawwenkaasi waxaan qareenka difaacayay Valentino Talluto uu sheegay in falkani uusan aheyn mid ulakac ah\\n Suaal xisaab ah oo aan la xalin karin oo la weeydiiyay ardayda Shiinaha\\n Dadka isticmaala baraha bulshada dalka Shiinaha ayaa dhaleeceeyay suaal ku jirtay imtixaam arday laga qaadayay taas oo aysanba suurtogal ahayn in la xaliyo\\n Suaasha oo la weeydiiyay ardayda dhigata fasalka 5aad ayaa waxa ay u qorantahay Haddii markab uu wado 26 ido ah iyo 10 riyo ah meeqa sano ayuu jiraa',\n",
              "  189)]"
            ]
          },
          "metadata": {},
          "execution_count": 143
        }
      ]
    }
  ],
  "metadata": {
    "colab": {
      "name": "Welcome To Colab",
      "provenance": [],
      "include_colab_link": true
    },
    "kernelspec": {
      "display_name": "Python 3",
      "name": "python3"
    }
  },
  "nbformat": 4,
  "nbformat_minor": 0
}